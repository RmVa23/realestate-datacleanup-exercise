{
 "cells": [
  {
   "attachments": {},
   "cell_type": "markdown",
   "id": "innocent-university",
   "metadata": {},
   "source": [
    "# Real Estate Clean up\n",
    "\n",
    "This is a real dataset and it was downloaded using web scraping techniques. The data contains registers from fotocasa which is one of the most popular websites of real estate in Spain. Please, do not do this (web scraping) unless it is for academic purposes.\n",
    "\n",
    "The dataset was downloaded a few years ago by Henry Navarro and In no case were economic returns obtained from it.\n",
    "\n",
    "It contains thousands of data from real houses published on the web www.fotocasa.com. Your goal is to extract as much information as possible with the knowledge you have so far about data science, for example what is the most expensive house in the entire dataset?\n",
    "\n",
    "Let's start with precisely that question... Good luck!"
   ]
  },
  {
   "attachments": {},
   "cell_type": "markdown",
   "id": "multiple-glass",
   "metadata": {},
   "source": [
    "#### Exercise 00. Read the dataset assets/real_estate.csv and try to visualize the table (★☆☆)"
   ]
  },
  {
   "cell_type": "code",
   "execution_count": null,
   "id": "frank-heath",
   "metadata": {},
   "outputs": [
    {
     "data": {
      "text/html": [
       "<div>\n",
       "<style scoped>\n",
       "    .dataframe tbody tr th:only-of-type {\n",
       "        vertical-align: middle;\n",
       "    }\n",
       "\n",
       "    .dataframe tbody tr th {\n",
       "        vertical-align: top;\n",
       "    }\n",
       "\n",
       "    .dataframe thead th {\n",
       "        text-align: right;\n",
       "    }\n",
       "</style>\n",
       "<table border=\"1\" class=\"dataframe\">\n",
       "  <thead>\n",
       "    <tr style=\"text-align: right;\">\n",
       "      <th></th>\n",
       "      <th>Unnamed: 0</th>\n",
       "      <th>id_realEstates</th>\n",
       "      <th>isNew</th>\n",
       "      <th>realEstate_name</th>\n",
       "      <th>phone_realEstate</th>\n",
       "      <th>url_inmueble</th>\n",
       "      <th>rooms</th>\n",
       "      <th>bathrooms</th>\n",
       "      <th>surface</th>\n",
       "      <th>price</th>\n",
       "      <th>...</th>\n",
       "      <th>level4Id</th>\n",
       "      <th>level5Id</th>\n",
       "      <th>level6Id</th>\n",
       "      <th>level7Id</th>\n",
       "      <th>level8Id</th>\n",
       "      <th>accuracy</th>\n",
       "      <th>latitude</th>\n",
       "      <th>longitude</th>\n",
       "      <th>zipCode</th>\n",
       "      <th>customZone</th>\n",
       "    </tr>\n",
       "  </thead>\n",
       "  <tbody>\n",
       "    <tr>\n",
       "      <th>0</th>\n",
       "      <td>1</td>\n",
       "      <td>153771986</td>\n",
       "      <td>False</td>\n",
       "      <td>ferrari 57 inmobiliaria</td>\n",
       "      <td>912177526.0</td>\n",
       "      <td>https://www.fotocasa.es/es/comprar/vivienda/ma...</td>\n",
       "      <td>3.0</td>\n",
       "      <td>2.0</td>\n",
       "      <td>103.0</td>\n",
       "      <td>195000</td>\n",
       "      <td>...</td>\n",
       "      <td>0</td>\n",
       "      <td>0</td>\n",
       "      <td>0</td>\n",
       "      <td>0</td>\n",
       "      <td>0</td>\n",
       "      <td>0</td>\n",
       "      <td>40,2948276786438</td>\n",
       "      <td>-3,44402412135624</td>\n",
       "      <td>NaN</td>\n",
       "      <td>NaN</td>\n",
       "    </tr>\n",
       "    <tr>\n",
       "      <th>1</th>\n",
       "      <td>2</td>\n",
       "      <td>153867863</td>\n",
       "      <td>False</td>\n",
       "      <td>tecnocasa fuenlabrada ferrocarril</td>\n",
       "      <td>916358736.0</td>\n",
       "      <td>https://www.fotocasa.es/es/comprar/vivienda/ma...</td>\n",
       "      <td>3.0</td>\n",
       "      <td>1.0</td>\n",
       "      <td>NaN</td>\n",
       "      <td>89000</td>\n",
       "      <td>...</td>\n",
       "      <td>0</td>\n",
       "      <td>0</td>\n",
       "      <td>0</td>\n",
       "      <td>0</td>\n",
       "      <td>0</td>\n",
       "      <td>1</td>\n",
       "      <td>40,28674</td>\n",
       "      <td>-3,79351</td>\n",
       "      <td>NaN</td>\n",
       "      <td>NaN</td>\n",
       "    </tr>\n",
       "    <tr>\n",
       "      <th>2</th>\n",
       "      <td>3</td>\n",
       "      <td>153430440</td>\n",
       "      <td>False</td>\n",
       "      <td>look find boadilla</td>\n",
       "      <td>916350408.0</td>\n",
       "      <td>https://www.fotocasa.es/es/comprar/vivienda/ma...</td>\n",
       "      <td>2.0</td>\n",
       "      <td>2.0</td>\n",
       "      <td>99.0</td>\n",
       "      <td>390000</td>\n",
       "      <td>...</td>\n",
       "      <td>0</td>\n",
       "      <td>0</td>\n",
       "      <td>0</td>\n",
       "      <td>0</td>\n",
       "      <td>0</td>\n",
       "      <td>0</td>\n",
       "      <td>40,4115646786438</td>\n",
       "      <td>-3,90662252135624</td>\n",
       "      <td>NaN</td>\n",
       "      <td>NaN</td>\n",
       "    </tr>\n",
       "    <tr>\n",
       "      <th>3</th>\n",
       "      <td>4</td>\n",
       "      <td>152776331</td>\n",
       "      <td>False</td>\n",
       "      <td>tecnocasa fuenlabrada ferrocarril</td>\n",
       "      <td>916358736.0</td>\n",
       "      <td>https://www.fotocasa.es/es/comprar/vivienda/ma...</td>\n",
       "      <td>3.0</td>\n",
       "      <td>1.0</td>\n",
       "      <td>86.0</td>\n",
       "      <td>89000</td>\n",
       "      <td>...</td>\n",
       "      <td>0</td>\n",
       "      <td>0</td>\n",
       "      <td>0</td>\n",
       "      <td>0</td>\n",
       "      <td>0</td>\n",
       "      <td>0</td>\n",
       "      <td>40,2853785786438</td>\n",
       "      <td>-3,79508142135624</td>\n",
       "      <td>NaN</td>\n",
       "      <td>NaN</td>\n",
       "    </tr>\n",
       "    <tr>\n",
       "      <th>4</th>\n",
       "      <td>5</td>\n",
       "      <td>153180188</td>\n",
       "      <td>False</td>\n",
       "      <td>ferrari 57 inmobiliaria</td>\n",
       "      <td>912177526.0</td>\n",
       "      <td>https://www.fotocasa.es/es/comprar/vivienda/ma...</td>\n",
       "      <td>2.0</td>\n",
       "      <td>2.0</td>\n",
       "      <td>106.0</td>\n",
       "      <td>172000</td>\n",
       "      <td>...</td>\n",
       "      <td>0</td>\n",
       "      <td>0</td>\n",
       "      <td>0</td>\n",
       "      <td>0</td>\n",
       "      <td>0</td>\n",
       "      <td>0</td>\n",
       "      <td>40,2998774864376</td>\n",
       "      <td>-3,45226301356237</td>\n",
       "      <td>NaN</td>\n",
       "      <td>NaN</td>\n",
       "    </tr>\n",
       "    <tr>\n",
       "      <th>...</th>\n",
       "      <td>...</td>\n",
       "      <td>...</td>\n",
       "      <td>...</td>\n",
       "      <td>...</td>\n",
       "      <td>...</td>\n",
       "      <td>...</td>\n",
       "      <td>...</td>\n",
       "      <td>...</td>\n",
       "      <td>...</td>\n",
       "      <td>...</td>\n",
       "      <td>...</td>\n",
       "      <td>...</td>\n",
       "      <td>...</td>\n",
       "      <td>...</td>\n",
       "      <td>...</td>\n",
       "      <td>...</td>\n",
       "      <td>...</td>\n",
       "      <td>...</td>\n",
       "      <td>...</td>\n",
       "      <td>...</td>\n",
       "      <td>...</td>\n",
       "    </tr>\n",
       "    <tr>\n",
       "      <th>15330</th>\n",
       "      <td>15331</td>\n",
       "      <td>153901377</td>\n",
       "      <td>False</td>\n",
       "      <td>infocasa consulting</td>\n",
       "      <td>911360461.0</td>\n",
       "      <td>https://www.fotocasa.es/es/comprar/vivienda/ma...</td>\n",
       "      <td>2.0</td>\n",
       "      <td>1.0</td>\n",
       "      <td>96.0</td>\n",
       "      <td>259470</td>\n",
       "      <td>...</td>\n",
       "      <td>0</td>\n",
       "      <td>0</td>\n",
       "      <td>0</td>\n",
       "      <td>0</td>\n",
       "      <td>0</td>\n",
       "      <td>0</td>\n",
       "      <td>40,45416</td>\n",
       "      <td>-3,70286</td>\n",
       "      <td>NaN</td>\n",
       "      <td>NaN</td>\n",
       "    </tr>\n",
       "    <tr>\n",
       "      <th>15331</th>\n",
       "      <td>15332</td>\n",
       "      <td>150394373</td>\n",
       "      <td>False</td>\n",
       "      <td>inmobiliaria pulpon</td>\n",
       "      <td>912788039.0</td>\n",
       "      <td>https://www.fotocasa.es/es/comprar/vivienda/ma...</td>\n",
       "      <td>3.0</td>\n",
       "      <td>1.0</td>\n",
       "      <td>150.0</td>\n",
       "      <td>165000</td>\n",
       "      <td>...</td>\n",
       "      <td>0</td>\n",
       "      <td>0</td>\n",
       "      <td>0</td>\n",
       "      <td>0</td>\n",
       "      <td>0</td>\n",
       "      <td>0</td>\n",
       "      <td>40,36652</td>\n",
       "      <td>-3,48951</td>\n",
       "      <td>NaN</td>\n",
       "      <td>NaN</td>\n",
       "    </tr>\n",
       "    <tr>\n",
       "      <th>15332</th>\n",
       "      <td>15333</td>\n",
       "      <td>153901397</td>\n",
       "      <td>False</td>\n",
       "      <td>tecnocasa torrelodones</td>\n",
       "      <td>912780348.0</td>\n",
       "      <td>https://www.fotocasa.es/es/comprar/vivienda/ma...</td>\n",
       "      <td>4.0</td>\n",
       "      <td>2.0</td>\n",
       "      <td>175.0</td>\n",
       "      <td>495000</td>\n",
       "      <td>...</td>\n",
       "      <td>0</td>\n",
       "      <td>0</td>\n",
       "      <td>0</td>\n",
       "      <td>0</td>\n",
       "      <td>0</td>\n",
       "      <td>0</td>\n",
       "      <td>40,57444</td>\n",
       "      <td>-3,92124</td>\n",
       "      <td>NaN</td>\n",
       "      <td>NaN</td>\n",
       "    </tr>\n",
       "    <tr>\n",
       "      <th>15333</th>\n",
       "      <td>15334</td>\n",
       "      <td>152607440</td>\n",
       "      <td>False</td>\n",
       "      <td>inmobiliaria pulpon</td>\n",
       "      <td>912788039.0</td>\n",
       "      <td>https://www.fotocasa.es/es/comprar/vivienda/ma...</td>\n",
       "      <td>3.0</td>\n",
       "      <td>2.0</td>\n",
       "      <td>101.0</td>\n",
       "      <td>195000</td>\n",
       "      <td>...</td>\n",
       "      <td>0</td>\n",
       "      <td>0</td>\n",
       "      <td>0</td>\n",
       "      <td>0</td>\n",
       "      <td>0</td>\n",
       "      <td>0</td>\n",
       "      <td>40,36967</td>\n",
       "      <td>-3,48105</td>\n",
       "      <td>NaN</td>\n",
       "      <td>NaN</td>\n",
       "    </tr>\n",
       "    <tr>\n",
       "      <th>15334</th>\n",
       "      <td>15335</td>\n",
       "      <td>153901356</td>\n",
       "      <td>False</td>\n",
       "      <td>infocasa consulting</td>\n",
       "      <td>911360461.0</td>\n",
       "      <td>https://www.fotocasa.es/es/comprar/vivienda/ma...</td>\n",
       "      <td>3.0</td>\n",
       "      <td>2.0</td>\n",
       "      <td>152.0</td>\n",
       "      <td>765000</td>\n",
       "      <td>...</td>\n",
       "      <td>0</td>\n",
       "      <td>0</td>\n",
       "      <td>0</td>\n",
       "      <td>0</td>\n",
       "      <td>0</td>\n",
       "      <td>0</td>\n",
       "      <td>40,45773</td>\n",
       "      <td>-3,69068</td>\n",
       "      <td>NaN</td>\n",
       "      <td>NaN</td>\n",
       "    </tr>\n",
       "  </tbody>\n",
       "</table>\n",
       "<p>15335 rows × 37 columns</p>\n",
       "</div>"
      ],
      "text/plain": [
       "       Unnamed: 0  id_realEstates  isNew                    realEstate_name  \\\n",
       "0               1       153771986  False            ferrari 57 inmobiliaria   \n",
       "1               2       153867863  False  tecnocasa fuenlabrada ferrocarril   \n",
       "2               3       153430440  False                 look find boadilla   \n",
       "3               4       152776331  False  tecnocasa fuenlabrada ferrocarril   \n",
       "4               5       153180188  False            ferrari 57 inmobiliaria   \n",
       "...           ...             ...    ...                                ...   \n",
       "15330       15331       153901377  False                infocasa consulting   \n",
       "15331       15332       150394373  False                inmobiliaria pulpon   \n",
       "15332       15333       153901397  False             tecnocasa torrelodones   \n",
       "15333       15334       152607440  False                inmobiliaria pulpon   \n",
       "15334       15335       153901356  False                infocasa consulting   \n",
       "\n",
       "       phone_realEstate                                       url_inmueble  \\\n",
       "0           912177526.0  https://www.fotocasa.es/es/comprar/vivienda/ma...   \n",
       "1           916358736.0  https://www.fotocasa.es/es/comprar/vivienda/ma...   \n",
       "2           916350408.0  https://www.fotocasa.es/es/comprar/vivienda/ma...   \n",
       "3           916358736.0  https://www.fotocasa.es/es/comprar/vivienda/ma...   \n",
       "4           912177526.0  https://www.fotocasa.es/es/comprar/vivienda/ma...   \n",
       "...                 ...                                                ...   \n",
       "15330       911360461.0  https://www.fotocasa.es/es/comprar/vivienda/ma...   \n",
       "15331       912788039.0  https://www.fotocasa.es/es/comprar/vivienda/ma...   \n",
       "15332       912780348.0  https://www.fotocasa.es/es/comprar/vivienda/ma...   \n",
       "15333       912788039.0  https://www.fotocasa.es/es/comprar/vivienda/ma...   \n",
       "15334       911360461.0  https://www.fotocasa.es/es/comprar/vivienda/ma...   \n",
       "\n",
       "       rooms  bathrooms  surface   price  ... level4Id level5Id level6Id  \\\n",
       "0        3.0        2.0    103.0  195000  ...        0        0        0   \n",
       "1        3.0        1.0      NaN   89000  ...        0        0        0   \n",
       "2        2.0        2.0     99.0  390000  ...        0        0        0   \n",
       "3        3.0        1.0     86.0   89000  ...        0        0        0   \n",
       "4        2.0        2.0    106.0  172000  ...        0        0        0   \n",
       "...      ...        ...      ...     ...  ...      ...      ...      ...   \n",
       "15330    2.0        1.0     96.0  259470  ...        0        0        0   \n",
       "15331    3.0        1.0    150.0  165000  ...        0        0        0   \n",
       "15332    4.0        2.0    175.0  495000  ...        0        0        0   \n",
       "15333    3.0        2.0    101.0  195000  ...        0        0        0   \n",
       "15334    3.0        2.0    152.0  765000  ...        0        0        0   \n",
       "\n",
       "      level7Id level8Id accuracy          latitude          longitude zipCode  \\\n",
       "0            0        0        0  40,2948276786438  -3,44402412135624     NaN   \n",
       "1            0        0        1          40,28674           -3,79351     NaN   \n",
       "2            0        0        0  40,4115646786438  -3,90662252135624     NaN   \n",
       "3            0        0        0  40,2853785786438  -3,79508142135624     NaN   \n",
       "4            0        0        0  40,2998774864376  -3,45226301356237     NaN   \n",
       "...        ...      ...      ...               ...                ...     ...   \n",
       "15330        0        0        0          40,45416           -3,70286     NaN   \n",
       "15331        0        0        0          40,36652           -3,48951     NaN   \n",
       "15332        0        0        0          40,57444           -3,92124     NaN   \n",
       "15333        0        0        0          40,36967           -3,48105     NaN   \n",
       "15334        0        0        0          40,45773           -3,69068     NaN   \n",
       "\n",
       "      customZone  \n",
       "0            NaN  \n",
       "1            NaN  \n",
       "2            NaN  \n",
       "3            NaN  \n",
       "4            NaN  \n",
       "...          ...  \n",
       "15330        NaN  \n",
       "15331        NaN  \n",
       "15332        NaN  \n",
       "15333        NaN  \n",
       "15334        NaN  \n",
       "\n",
       "[15335 rows x 37 columns]"
      ]
     },
     "execution_count": 1,
     "metadata": {},
     "output_type": "execute_result"
    }
   ],
   "source": [
    "import pandas as pd\n",
    "\n",
    "# this CSV file contains semicolons instead of comas as separator\n",
    "ds = pd.read_csv('assets/real_estate.csv', sep=';')\n",
    "ds"
   ]
  },
  {
   "attachments": {},
   "cell_type": "markdown",
   "id": "latin-guest",
   "metadata": {},
   "source": [
    "#### Exercise 01. Which is the most expensive house in the dataset? (★☆☆)\n",
    "\n",
    "Print the address and the price of the selected house. For example:\n",
    "\n",
    "`The house with address General Street Nº5 is the most expensive and its price is 5000000 USD`"
   ]
  },
  {
   "cell_type": "code",
   "execution_count": 3,
   "id": "developing-optimum",
   "metadata": {},
   "outputs": [
    {
     "name": "stdout",
     "output_type": "stream",
     "text": [
      "The house with address El Escorial is the most expensive and its price is 8500000 USD.\n"
     ]
    }
   ],
   "source": [
    "import pandas as pd\n",
    "data = pd.read_csv('assets/real_estate.csv', sep=';')\n",
    "precio_max = data[\"price\"].max()\n",
    "indice = data.loc[data['price'] == precio_max]\n",
    "direcc = data.loc[13110]['address']\n",
    "propiedad = \"The house with address \" + direcc + \" is the most expensive and its price is \" + str(precio_max) + \" USD.\"\n",
    "print(propiedad)"
   ]
  },
  {
   "attachments": {},
   "cell_type": "markdown",
   "id": "lesser-cosmetic",
   "metadata": {},
   "source": [
    "#### Exercise 02. Which is cheapest house in the dataset? (★☆☆)\n",
    "\n",
    "Print the address and the price of the selected house. For example:\n",
    "\n",
    "`The house with address Concrete Street Nº1 is the cheapest and its price is 12000 USD`"
   ]
  },
  {
   "cell_type": "code",
   "execution_count": 38,
   "id": "lovely-oasis",
   "metadata": {},
   "outputs": [
    {
     "name": "stdout",
     "output_type": "stream",
     "text": [
      "366      The house with address Parla is the cheapest a...\n",
      "694      The house with address Avenida de Los Pirineos...\n",
      "1003     The house with address Paseo del Licenciado Vi...\n",
      "1255     The house with address Avenida del Cardenal He...\n",
      "1534     The house with address Calle Campomanes, Pozue...\n",
      "1554     The house with address Boadilla del Monte is t...\n",
      "1645     The house with address Plaza Canto Redondo, 5,...\n",
      "1798     The house with address  Madrid Capital is the ...\n",
      "1829     The house with address  Madrid Capital is the ...\n",
      "2049     The house with address Calle Acuario, Móstoles...\n",
      "2058     The house with address Calle Praderas, Majadah...\n",
      "2197     The house with address Calle Procesiones, Vill...\n",
      "2266     The house with address Calle Benito Perez Gald...\n",
      "2750     The house with address  Madrid Capital is the ...\n",
      "3036     The house with address Calle Francisco Vivanco...\n",
      "3201     The house with address Torrejón de Ardoz is th...\n",
      "3435     The house with address Calle Diligencia,  Madr...\n",
      "3959     The house with address Plaza Canto Redondo, 5,...\n",
      "3989     The house with address Plaza Canto Redondo, 5,...\n",
      "4019     The house with address Plaza Canto Redondo, 5,...\n",
      "4031     The house with address Calle Campomanes, Pozue...\n",
      "4167     The house with address Calle Acuario, Móstoles...\n",
      "4362     The house with address Plaza Canto Redondo, 5,...\n",
      "4605     The house with address Calle Procesiones, Vill...\n",
      "4902     The house with address Calle de Lozano,  Madri...\n",
      "5013     The house with address Arroyomolinos (Madrid) ...\n",
      "5072     The house with address Calle Granados, 16, Tor...\n",
      "5439     The house with address Rivas-vaciamadrid is th...\n",
      "5446     The house with address  Madrid Capital is the ...\n",
      "5463     The house with address Camarma de Esteruelas i...\n",
      "5628     The house with address Avenida 25 de Noviembre...\n",
      "5645     The house with address Torrejón de Ardoz is th...\n",
      "5648     The house with address Torrejón de Ardoz is th...\n",
      "6439     The house with address Plaza Canto Redondo, 5,...\n",
      "6585     The house with address Calle Campomanes, Pozue...\n",
      "7227     The house with address Plaza Canto Redondo, 5,...\n",
      "7331     The house with address Calle Campomanes, Pozue...\n",
      "7356     The house with address Plaza Canto Redondo, 5,...\n",
      "8111     The house with address Calle Goya, 2, Brunete ...\n",
      "8172     The house with address Calle Campomanes, Pozue...\n",
      "8183     The house with address Avenida de Los Pirineos...\n",
      "8192     The house with address Plaza Canto Redondo, 5,...\n",
      "8256     The house with address Plaza Canto Redondo, 5,...\n",
      "8828     The house with address Móstoles is the cheapes...\n",
      "8962     The house with address Calle Veintiocho, 1, El...\n",
      "10292    The house with address Coslada is the cheapest...\n",
      "10297    The house with address Calle de las Viñas del ...\n",
      "10436    The house with address Calle Crater, Getafe is...\n",
      "10498    The house with address  Madrid Capital is the ...\n",
      "11032    The house with address Arroyomolinos (Madrid) ...\n",
      "11291    The house with address Calle Antonio Moya, Cam...\n",
      "12034    The house with address V.c. Puente de Vallecas...\n",
      "12630    The house with address Corpa is the cheapest a...\n",
      "12667    The house with address Pinto is the cheapest a...\n",
      "13271    The house with address Calle Procesiones, Vill...\n",
      "13272    The house with address Calle Procesiones, Vill...\n",
      "13273    The house with address Avenida Pintor Antonio ...\n",
      "14697    The house with address Calle Obispo Braulio Ro...\n",
      "14773    The house with address Calle Planeta Neptuno, ...\n",
      "15204    The house with address Alcobendas is the cheap...\n",
      "Name: address, dtype: object\n"
     ]
    }
   ],
   "source": [
    "import pandas as pd\n",
    "data = pd.read_csv('assets/real_estate.csv', sep=';')\n",
    "\n",
    "precio_min = data['price'].min(skipna=True)\n",
    "indice = data.loc[data['price'] == precio_min]\n",
    "for i in indice:\n",
    "    print('The house with address ' + indice['address'] + ' is the cheapest and its price is ' + str(precio_min) + ' USD')\n",
    "    break\n",
    "    "
   ]
  },
  {
   "attachments": {},
   "cell_type": "markdown",
   "id": "compliant-fellowship",
   "metadata": {},
   "source": [
    "#### Exercise 03. Which is the biggest and the smallest house in the dataset? (★☆☆)\n",
    "\n",
    "Print both the address and the surface of the selected houses. For example:\n",
    "\n",
    "`The bigger house is located on Yukka Street Nº10 and its surface is 5000 meters`\n",
    "\n",
    "`The smaller house is located on County Road 1 N and its surface is 200 meters`"
   ]
  },
  {
   "cell_type": "code",
   "execution_count": 6,
   "id": "every-tiffany",
   "metadata": {},
   "outputs": [
    {
     "name": "stdout",
     "output_type": "stream",
     "text": [
      "The bigger house is located on Sevilla la Nueva and its surface is 249000.0 meters.\n",
      "The smaller house is located on Calle Amparo,  Madrid Capital and its surface is 15.0 meters.\n"
     ]
    }
   ],
   "source": [
    "import pandas as pd\n",
    "data = pd.read_csv('assets/real_estate.csv', sep=';')\n",
    "\n",
    "s_max = data['surface'].max(skipna = True)\n",
    "s_min = data['surface'].min(skipna = True)\n",
    "index_d_max = data['address'].loc[data['surface'] == s_max]\n",
    "index_d_min = data['address'].loc[data['surface'] == s_min]\n",
    "dmax = data.loc[6794]['address']\n",
    "dmin = data.loc[498]['address']\n",
    "print('The bigger house is located on ' + dmax + ' and its surface is ' + str(s_max) + ' meters.')\n",
    "print('The smaller house is located on ' + dmin + ' and its surface is ' + str(s_min) + ' meters.')\n"
   ]
  },
  {
   "attachments": {},
   "cell_type": "markdown",
   "id": "danish-spirit",
   "metadata": {},
   "source": [
    "#### Exercise 04. How many populations (level5 column) the dataset contains? (★☆☆)\n",
    "\n",
    "Print the name of the populations with comma as separator. For example:\n",
    "\n",
    "`> print(populations)`\n",
    "\n",
    "`population1, population2, population3,...`"
   ]
  },
  {
   "cell_type": "code",
   "execution_count": 2,
   "id": "exciting-accreditation",
   "metadata": {},
   "outputs": [
    {
     "name": "stdout",
     "output_type": "stream",
     "text": [
      "['Arganda del Rey', 'Fuenlabrada', 'Boadilla del Monte', 'Las Rozas de Madrid', ' Madrid Capital', 'Villaviciosa de Odón', 'Pinto', 'Valdemoro', 'Navalcarnero', 'Pozuelo de Alarcón', 'Torrejón de Ardoz', 'Navalagamella', 'San Sebastián de los Reyes', 'Rivas-vaciamadrid', 'Alpedrete', 'Móstoles', 'San Fernando de Henares', 'Coslada', 'Becerril de la Sierra', 'Alcalá de Henares', 'Chinchón', 'Parla', 'Alcorcón', 'El Escorial', 'Leganés', 'Pedrezuela', 'Majadahonda', 'Villanueva de la Cañada', 'Villanueva del Pardillo', 'Torrelodones', 'Moralzarzal', 'Mejorada del Campo', 'Aranjuez', 'Corpa', 'Getafe', 'Velilla de San Antonio', 'Sevilla la Nueva', 'San Martín de la Vega', 'Villalbilla', 'Collado Villalba', 'Alcobendas', 'El Molar (Madrid)', 'Moraleja de Enmedio', 'Algete', 'Campo Real', 'Torrejón de la Calzada', 'Colmenar Viejo', 'Valdemorillo', 'Fuente El Saz de Jarama', 'Tres Cantos', 'Arroyomolinos (Madrid)', 'Griñón', 'Paracuellos de Jarama', 'Guadarrama', 'Titulcia', 'Galapagar', 'Collado Mediano', 'Los Molinos', 'San Lorenzo de El Escorial', 'Loeches', 'San Martín de Valdeiglesias', 'Navas del Rey', 'Bustarviejo', 'Manzanares El Real', 'Carabaña', 'Casarrubuelos', 'Cercedilla', 'Fresnedillas de la Oliva', 'Valdemaqueda', 'Robledo de Chavela', 'Miraflores de la Sierra', 'Humanes de Madrid', 'Valdetorres de Jarama', 'San Agustín del Guadalix', 'Ciempozuelos', 'Camarma de Esteruelas', 'Torres de la Alameda', 'Talamanca de Jarama', 'El Atazar', 'Hoyo de Manzanares', 'El Boalo - Cerceda – Mataelpino', 'El Álamo', 'Valdilecha', 'Valdeolmos-Alalpardo', 'Guadalix de la Sierra', 'Belmonte de Tajo', 'El Vellón', 'Brunete', 'Redueña', 'Morata de Tajuña', 'Tielmes', 'Gargantilla del Lozoya', 'Meco', 'Venturada', 'Quijorna', 'Cenicientos', 'Torrejón de Velasco', 'Navacerrada', 'Santa María de la Alameda', 'Orusco de Tajuña', 'Daganzo de Arriba', 'Villamanta', 'Anchuelo', 'Valdaracete', 'Ajalvir', 'Los Santos de la Humosa', 'Villamanrique de Tajo', 'Colmenar de Oreja', 'Villa del Prado', 'Fuentidueña de Tajo', 'Colmenar del Arroyo', 'Valdelaguna', 'Cubas de la Sagra', 'Valdeavero', 'Aldea del Fresno', 'Ribatejada', 'Torrelaguna', 'Batres', 'Pezuela de las Torres', 'Colmenarejo', 'Serranillos del Valle', 'Cobeña', 'Soto del Real', 'El Berrueco', 'Villanueva de Perales', 'Fresno de Torote - Serracines', 'Pozuelo del Rey', 'Pelayos de la Presa', 'La Cabrera', 'Nuevo Baztán', 'Perales de Tajuña', 'Villaconejos', 'Villarejo de Salvanés', 'Cadalso de los Vidrios', 'Santorcaz', 'Madarcos', 'Garganta de los Montes', 'Puentes Viejas', 'Torremocha de Jarama', 'Valdemanco', 'Braojos', 'Lozoyuela-navas-sieteiglesias', 'Piñuécar-gandullas', 'Valdepiélagos', 'Valverde de Alcalá', 'Villar del Olmo', 'Villamantilla', 'Horcajo de la Sierra', 'Gascones', 'Zarzalejo', 'Villavieja del Lozoya', 'Brea de Tajo', 'Estremera', 'Chapinería', 'Navarredonda', 'Patones', 'Ambite', 'Navalafuente', 'Lozoya', 'Canencia', 'Cabanillas de la Sierra', 'Buitrago del Lozoya', 'Fresno de Torote', 'Robregordo', 'Pinilla del Valle', 'Rascafría', 'La Hiruela', 'Montejo de la Sierra']\n",
      "168\n",
      "['Majadahonda', 'Garganta de los Montes', 'Colmenarejo', 'Pezuela de las Torres', 'Torremocha de Jarama', 'Zarzalejo', 'Santa María de la Alameda', 'Perales de Tajuña', 'El Berrueco', 'Meco', 'Valdeavero', 'Montejo de la Sierra', 'Sevilla la Nueva', 'Corpa', 'Algete', 'Orusco de Tajuña', 'Fuentidueña de Tajo', 'Paracuellos de Jarama', 'Navalcarnero', 'Horcajo de la Sierra', 'Valdemoro', 'Redueña', 'Los Santos de la Humosa', 'Ribatejada', 'Villamantilla', 'Valdepiélagos', 'Valdemaqueda', 'Nuevo Baztán', 'Cobeña', 'Alcobendas', 'Navas del Rey', 'Villar del Olmo', 'Villanueva de la Cañada', 'Braojos', 'Loeches', 'Rivas-vaciamadrid', 'Torrejón de Ardoz', 'Casarrubuelos', 'Cubas de la Sagra', 'Arganda del Rey', 'El Molar (Madrid)', 'Quijorna', 'Estremera', 'Madarcos', 'Torrelodones', 'Canencia', 'Campo Real', 'Navalagamella', 'Daganzo de Arriba', 'Brea de Tajo', 'Villanueva de Perales', 'Fresno de Torote - Serracines', 'Bustarviejo', 'San Martín de Valdeiglesias', 'Pelayos de la Presa', 'Aldea del Fresno', 'San Sebastián de los Reyes', 'Fuente El Saz de Jarama', 'Mejorada del Campo', 'Talamanca de Jarama', 'Villamanta', 'Valdaracete', 'Camarma de Esteruelas', 'Batres', 'San Agustín del Guadalix', 'Torrelaguna', 'Villarejo de Salvanés', 'Cabanillas de la Sierra', 'Robregordo', 'Valdelaguna', 'Brunete', 'Villavieja del Lozoya', 'Navarredonda', 'Titulcia', 'Torres de la Alameda', 'El Boalo - Cerceda – Mataelpino', 'Móstoles', 'El Atazar', 'Ajalvir', 'Pinto', 'Serranillos del Valle', 'Robledo de Chavela', 'Cadalso de los Vidrios', 'Parla', 'San Fernando de Henares', 'Humanes de Madrid', 'Anchuelo', 'Villalbilla', 'Piñuécar-gandullas', 'Aranjuez', 'El Escorial', 'Chinchón', 'San Martín de la Vega', 'Colmenar Viejo', 'El Álamo', 'Tres Cantos', 'Manzanares El Real', 'Gascones', 'Patones', 'Boadilla del Monte', 'Valverde de Alcalá', 'Buitrago del Lozoya', 'Puentes Viejas', 'Villaviciosa de Odón', 'Fresno de Torote', 'Alpedrete', 'Valdemanco', 'San Lorenzo de El Escorial', 'Navalafuente', 'La Cabrera', 'Belmonte de Tajo', 'Morata de Tajuña', 'Fuenlabrada', 'Villa del Prado', 'Venturada', 'Villanueva del Pardillo', 'Lozoya', 'Arroyomolinos (Madrid)', 'Leganés', 'Santorcaz', 'Cenicientos', 'Villaconejos', 'Ambite', 'Los Molinos', 'Alcorcón', 'Rascafría', 'Galapagar', 'Griñón', 'Becerril de la Sierra', 'Lozoyuela-navas-sieteiglesias', 'La Hiruela', 'Valdilecha', 'Moralzarzal', 'Colmenar de Oreja', 'Collado Villalba', 'El Vellón', 'Alcalá de Henares', 'Fresnedillas de la Oliva', 'Torrejón de Velasco', 'Las Rozas de Madrid', 'Hoyo de Manzanares', 'Guadalix de la Sierra', 'Ciempozuelos', 'Getafe', 'Velilla de San Antonio', 'Tielmes', 'Gargantilla del Lozoya', 'Navacerrada', 'Valdetorres de Jarama', 'Pedrezuela', 'Miraflores de la Sierra', 'Pozuelo de Alarcón', 'Pinilla del Valle', 'Valdeolmos-Alalpardo', 'Guadarrama', 'Colmenar del Arroyo', 'Torrejón de la Calzada', 'Pozuelo del Rey', 'Collado Mediano', 'Cercedilla', 'Coslada', 'Chapinería', ' Madrid Capital', 'Carabaña', 'Moraleja de Enmedio', 'Soto del Real', 'Valdemorillo', 'Villamanrique de Tajo']\n",
      "168\n"
     ]
    }
   ],
   "source": [
    "import pandas as pd\n",
    "data = pd.read_csv('assets/real_estate.csv', sep=';')\n",
    "\n",
    "poblaciones = list(data.level5.unique())\n",
    "print(poblaciones)\n",
    "print(len(poblaciones))\n",
    "\n",
    "zonas = list(set(data.level5))\n",
    "print(zonas)\n",
    "print(len(zonas))"
   ]
  },
  {
   "attachments": {},
   "cell_type": "markdown",
   "id": "crazy-blame",
   "metadata": {},
   "source": [
    "#### Exercise 05. Does the dataset contain NAs? (★☆☆)\n",
    "\n",
    "Print a boolean value (`true` or `fase`) followed by the rows/cols that contains NAs."
   ]
  },
  {
   "cell_type": "code",
   "execution_count": 10,
   "id": "transparent-poetry",
   "metadata": {},
   "outputs": [
    {
     "name": "stdout",
     "output_type": "stream",
     "text": [
      "Unnamed: 0          False\n",
      "id_realEstates      False\n",
      "isNew               False\n",
      "realEstate_name      True\n",
      "phone_realEstate     True\n",
      "url_inmueble        False\n",
      "rooms                True\n",
      "bathrooms            True\n",
      "surface              True\n",
      "price               False\n",
      "date                False\n",
      "description          True\n",
      "address             False\n",
      "country             False\n",
      "level1              False\n",
      "level2              False\n",
      "level3              False\n",
      "level4               True\n",
      "level5              False\n",
      "level6               True\n",
      "level7               True\n",
      "level8               True\n",
      "upperLevel          False\n",
      "countryId           False\n",
      "level1Id            False\n",
      "level2Id            False\n",
      "level3Id            False\n",
      "level4Id            False\n",
      "level5Id            False\n",
      "level6Id            False\n",
      "level7Id            False\n",
      "level8Id            False\n",
      "accuracy            False\n",
      "latitude            False\n",
      "longitude           False\n",
      "zipCode              True\n",
      "customZone           True\n",
      "dtype: bool\n",
      "True\n"
     ]
    }
   ],
   "source": [
    "import pandas as pd\n",
    "data = pd.read_csv('assets/real_estate.csv', sep=';')\n",
    "\n",
    "por_columns = data.isnull().any()\n",
    "print(por_columns)\n",
    "por_conjunto = data.isnull().any().any()\n",
    "print(por_conjunto)"
   ]
  },
  {
   "attachments": {},
   "cell_type": "markdown",
   "id": "italic-hydrogen",
   "metadata": {},
   "source": [
    "#### Exercise 06. Delete the NAs of the dataset, if applicable (★★☆)\n",
    "\n",
    "Print a comparison between the dimensions of the original DataFrame versus the DataFrame after the deletions"
   ]
  },
  {
   "cell_type": "code",
   "execution_count": 36,
   "id": "administrative-roads",
   "metadata": {},
   "outputs": [
    {
     "name": "stdout",
     "output_type": "stream",
     "text": [
      "DataSet Original:\n",
      "0    Calle Presidente Felipe Gonzalez, Arganda del Rey\n",
      "1                     Calle Polvoranca, 6, Fuenlabrada\n",
      "2            Calle Reyes Católicos, Boadilla del Monte\n",
      "3                       Barrio San Andres, Fuenlabrada\n",
      "4                                      Arganda del Rey\n",
      "Name: address, dtype: object\n",
      "DataSet sin columnas que contienen al menos un valos nulo:\n",
      "0    Calle Presidente Felipe Gonzalez, Arganda del Rey\n",
      "1                     Calle Polvoranca, 6, Fuenlabrada\n",
      "2            Calle Reyes Católicos, Boadilla del Monte\n",
      "3                       Barrio San Andres, Fuenlabrada\n",
      "4                                      Arganda del Rey\n",
      "Name: address, dtype: object\n",
      "DataSet sin filas que contienen al menos un valor nulo:\n",
      "Series([], Name: address, dtype: object)\n",
      "DataSet solo sin las columnas que tienen todos los valores nulos:\n",
      "0    Calle Presidente Felipe Gonzalez, Arganda del Rey\n",
      "1                     Calle Polvoranca, 6, Fuenlabrada\n",
      "2            Calle Reyes Católicos, Boadilla del Monte\n",
      "3                       Barrio San Andres, Fuenlabrada\n",
      "4                                      Arganda del Rey\n",
      "Name: address, dtype: object\n",
      "DataSet solo sin las filas que tienen todos los valores nulos:\n",
      "0    Calle Presidente Felipe Gonzalez, Arganda del Rey\n",
      "1                     Calle Polvoranca, 6, Fuenlabrada\n",
      "2            Calle Reyes Católicos, Boadilla del Monte\n",
      "3                       Barrio San Andres, Fuenlabrada\n",
      "4                                      Arganda del Rey\n",
      "Name: address, dtype: object\n"
     ]
    }
   ],
   "source": [
    "import pandas as pd\n",
    "data = pd.read_csv('assets/real_estate.csv', sep=';')\n",
    "\n",
    "print(\"DataSet Original:\")\n",
    "print(data['address'].head())\n",
    "data1 = data.dropna(axis=1)\n",
    "print(\"DataSet sin columnas que contienen al menos un valos nulo:\")\n",
    "print(data1['address'].head())\n",
    "data2 = data.dropna()\n",
    "print(\"DataSet sin filas que contienen al menos un valor nulo:\")\n",
    "print(data2['address'].head())\n",
    "data3 = data.dropna(axis=1, how = 'all')\n",
    "print(\"DataSet solo sin las columnas que tienen todos los valores nulos:\")\n",
    "print(data3['address'].head())\n",
    "data4 = data.dropna(how = \"all\")\n",
    "print(\"DataSet solo sin las filas que tienen todos los valores nulos:\")\n",
    "print(data4['address'].head())\n"
   ]
  },
  {
   "attachments": {},
   "cell_type": "markdown",
   "id": "middle-china",
   "metadata": {},
   "source": [
    "#### Exercise 07. Which is the mean of prices in the population (level5 column) of \"Arroyomolinos (Madrid)\"? (★★☆)\n",
    "\n",
    "Print the obtained value"
   ]
  },
  {
   "cell_type": "code",
   "execution_count": 12,
   "id": "nuclear-belief",
   "metadata": {},
   "outputs": [
    {
     "name": "stdout",
     "output_type": "stream",
     "text": [
      "294541.59854014596\n"
     ]
    }
   ],
   "source": [
    "import pandas as pd\n",
    "data = pd.read_csv('assets/real_estate.csv', sep=';')\n",
    "\n",
    "poblacion = ['Arroyomolinos (Madrid)']\n",
    "data_arroyomolinos = data[data['level5'].isin(poblacion)]\n",
    "precio_medio = data_arroyomolinos['price'].mean()\n",
    "print(precio_medio)"
   ]
  },
  {
   "attachments": {},
   "cell_type": "markdown",
   "id": "concerned-radical",
   "metadata": {},
   "source": [
    "#### Exercise 08. Plot the histogram of prices for the population (level5 column) of \"Arroyomolinos (Madrid)\" and explain what you observe (★★☆)\n",
    "\n",
    "Print the histogram of the prices and write in the Markdown cell a brief analysis about the plot."
   ]
  },
  {
   "cell_type": "code",
   "execution_count": 12,
   "id": "sudden-message",
   "metadata": {},
   "outputs": [
    {
     "data": {
      "image/png": "[encoded data removed]",
      "text/plain": [
       "<Figure size 1000x500 with 1 Axes>"
      ]
     },
     "metadata": {},
     "output_type": "display_data"
    },
    {
     "name": "stdout",
     "output_type": "stream",
     "text": [
      "Zona de poder adquisitivo medio-alto\n"
     ]
    }
   ],
   "source": [
    "import pandas as pd\n",
    "data = pd.read_csv('assets/real_estate.csv', sep=';')\n",
    "\n",
    "poblacion = ['Arroyomolinos (Madrid)']\n",
    "data_arroyomolinos = data[data['level5'].isin(poblacion)]\n",
    "precio = data_arroyomolinos.filter(['price'])\n",
    "\n",
    "import matplotlib.pyplot as plt\n",
    "plt.figure(figsize = (10, 5))\n",
    "plt.hist(precio, bins=50, alpha=0.8)\n",
    "plt.title(\"Distribución de precios en Arroyomolinos (Madrid)\")\n",
    "plt.show()\n",
    "\n",
    "print(\"Zona de poder adquisitivo medio-alto\")\n"
   ]
  },
  {
   "attachments": {},
   "cell_type": "markdown",
   "id": "impressed-combination",
   "metadata": {},
   "source": [
    "**TODO: Markdown**. To write here, double click to this cell and just remove this content and place the text you want to write. Then, execute the cell."
   ]
  },
  {
   "attachments": {},
   "cell_type": "markdown",
   "id": "actual-edinburgh",
   "metadata": {},
   "source": [
    "#### Exercise 09. Is the average of \"Valdemorillo\" and \"Galapagar\" prices the same? (★★☆)\n",
    "\n",
    "Print the both average prices and then write a conclusion about them"
   ]
  },
  {
   "cell_type": "code",
   "execution_count": 15,
   "id": "numeric-commerce",
   "metadata": {},
   "outputs": [
    {
     "name": "stdout",
     "output_type": "stream",
     "text": [
      "La zona de Valdemorillo es más valorada que la de Galapagar\n"
     ]
    }
   ],
   "source": [
    "import pandas as pd\n",
    "data = pd.read_csv('assets/real_estate.csv', sep=';')\n",
    "\n",
    "val = ['Valdemorillo']\n",
    "gal = ['Galapagar']\n",
    "val1 = data[data['level5'].isin(val)]\n",
    "pm_valdemorillo = val1['price'].mean()\n",
    "gal1 = data[data['level5'].isin(gal)]\n",
    "pm_galapagar = gal1['price'].mean()\n",
    "if pm_valdemorillo < pm_galapagar:\n",
    "    print(\"La zona de Galapagar es más valorada que la de Valdemorillo\")\n",
    "elif pm_valdemorillo > pm_galapagar:\n",
    "    print(\"La zona de Valdemorillo es más valorada que la de Galapagar\")\n",
    "else:\n",
    "    print(\"Las zonas de Valdemorillo y Galapagar tienen el mismo precio promedio\")\n"
   ]
  },
  {
   "attachments": {},
   "cell_type": "markdown",
   "id": "lonely-article",
   "metadata": {},
   "source": [
    "#### Exercise 10. Is the average of \"Valdemorillo\" and \"Galapagar\" price per square meter (price/m2) the same? (★★☆)\n",
    "\n",
    "Print the both average prices and then write a conclusion about\n",
    "\n",
    "Hint: Create a new column called `pps` (price per square) and then analyse the values"
   ]
  },
  {
   "cell_type": "code",
   "execution_count": 19,
   "id": "hourly-globe",
   "metadata": {},
   "outputs": [
    {
     "name": "stdout",
     "output_type": "stream",
     "text": [
      "1317.9502109024986\n",
      "1606.3240303094024\n",
      "El precio medio por metro cuadrado en Valdemorillo es más económico que el de la zona de Galapagar.\n"
     ]
    }
   ],
   "source": [
    "import pandas as pd\n",
    "data = pd.read_csv('assets/real_estate.csv', sep=';')\n",
    "\n",
    "val = ['Valdemorillo']\n",
    "val1 = data[data['level5'].isin(val)]\n",
    "\n",
    "m2_val = val1.loc[:, ['surface', 'price']]\n",
    "m2_val['pps'] = m2_val['price'] / m2_val['surface']\n",
    "promedio_m2val = m2_val['pps'].mean()\n",
    "print(promedio_m2val)\n",
    "\n",
    "gal = ['Galapagar']\n",
    "gal1 = data[data['level5'].isin(gal)]\n",
    "\n",
    "m2_gal = gal1.loc[:, ['surface', 'price']]\n",
    "m2_gal['pps'] = m2_gal['price'] / m2_gal['surface']\n",
    "promedio_m2gal = m2_gal['pps'].mean()\n",
    "print(promedio_m2gal)\n",
    "print(\"El precio medio por metro cuadrado en Valdemorillo es más económico que el de la zona de Galapagar.\")\n"
   ]
  },
  {
   "cell_type": "markdown",
   "id": "ec4f6314",
   "metadata": {},
   "source": []
  },
  {
   "attachments": {},
   "cell_type": "markdown",
   "id": "pleasant-invite",
   "metadata": {},
   "source": [
    "#### Exercise 11. Analyse the relation between the surface and the price of the houses (★★☆)\n",
    "\n",
    "Hint: You can make a `scatter plot` and then write a conclusion about it"
   ]
  },
  {
   "cell_type": "code",
   "execution_count": 37,
   "id": "common-drilling",
   "metadata": {},
   "outputs": [
    {
     "data": {
      "image/png": "[encoded data removed]",
      "text/plain": [
       "<Figure size 1000x500 with 1 Axes>"
      ]
     },
     "metadata": {},
     "output_type": "display_data"
    },
    {
     "name": "stdout",
     "output_type": "stream",
     "text": [
      "La práctica totalidad de las casas no superan los 500m2, y la dispersión de precios de éstas indica que son los inmuebles más comunes listados, la práctica totalidad.\n",
      "Sin embargo encontramos dos propiedades que superan enormemente la superficie común de los inmuebles, pero el precio es muy bajo, lo que podría indicar una muy baja demanda de propiedades de tanta superficie.\n"
     ]
    }
   ],
   "source": [
    "import pandas as pd\n",
    "data = pd.read_csv('assets/real_estate.csv', sep=';')\n",
    "data2 = data.loc[:, ['price', 'surface']]\n",
    "data4 = data2.dropna()\n",
    "\n",
    "\n",
    "import matplotlib.pyplot as plt\n",
    "sp = list(data4['surface'])\n",
    "pr= list(data4['price'])\n",
    "\n",
    "plt.figure(figsize = (10, 5))\n",
    "plt.scatter(sp, pr)\n",
    "plt.title(\"Precio y superficie\")\n",
    "plt.show()\n",
    "\n",
    "print(\"La práctica totalidad de las casas no superan los 500m2, y la dispersión de precios de éstas indica que son los inmuebles más comunes listados, la práctica totalidad.\")\n",
    "print(\"Sin embargo encontramos dos propiedades que superan enormemente la superficie común de los inmuebles, pero el precio es muy bajo, lo que podría indicar una muy baja demanda de propiedades de tanta superficie.\")\n"
   ]
  },
  {
   "attachments": {},
   "cell_type": "markdown",
   "id": "ahead-liquid",
   "metadata": {},
   "source": [
    "**TODO: Markdown**. To write here, double click to this cell and just remove this content and place the text you want to write. Then, execute the cell."
   ]
  },
  {
   "attachments": {},
   "cell_type": "markdown",
   "id": "coordinate-sunrise",
   "metadata": {},
   "source": [
    "#### Exercise 12. How many real estate agencies the dataset contains? (★★☆)\n",
    "\n",
    "Print the obtained value"
   ]
  },
  {
   "cell_type": "code",
   "execution_count": 21,
   "id": "valid-honolulu",
   "metadata": {},
   "outputs": [
    {
     "name": "stdout",
     "output_type": "stream",
     "text": [
      "El numero de agencias en el dataset es: 1822\n"
     ]
    }
   ],
   "source": [
    "import pandas as pd\n",
    "data = pd.read_csv('assets/real_estate.csv', sep=';')\n",
    "\n",
    "agencias = list(data.realEstate_name.unique())\n",
    "print('El numero de agencias en el dataset es: ' + str(len(agencias)))"
   ]
  },
  {
   "attachments": {},
   "cell_type": "markdown",
   "id": "binding-ebony",
   "metadata": {},
   "source": [
    "#### Exercise 13. Which is the population (level5 column) that contains the most houses? (★★☆)\n",
    "\n",
    "Print both the population and the number of houses"
   ]
  },
  {
   "cell_type": "code",
   "execution_count": 22,
   "id": "static-perry",
   "metadata": {},
   "outputs": [
    {
     "name": "stdout",
     "output_type": "stream",
     "text": [
      "La población con más inmuebles es Madrid Capital con 6643 en total.\n"
     ]
    }
   ],
   "source": [
    "import pandas as pd\n",
    "data = pd.read_csv('assets/real_estate.csv', sep=';')\n",
    "\n",
    "rep = data['level5'].value_counts()\n",
    "maxi = rep.max(skipna = True)\n",
    "print(\"La población con más inmuebles es Madrid Capital con \" + str(maxi) + \" en total.\")"
   ]
  },
  {
   "attachments": {},
   "cell_type": "markdown",
   "id": "entire-classification",
   "metadata": {},
   "source": [
    "#### Exercise 14. Now let's work with the \"south belt\" of madrid. Make a subset of the original DataFrame that contains the following populations (level5 column): \"Fuenlabrada\",\"Leganés\",\"Getafe\",\"Alcorcón\" (★★☆)\n",
    "\n",
    "Hint: Filter the original DataFrame using the column `level5` and the function `isin`"
   ]
  },
  {
   "cell_type": "code",
   "execution_count": 40,
   "id": "binary-input",
   "metadata": {},
   "outputs": [
    {
     "name": "stdout",
     "output_type": "stream",
     "text": [
      "          level5   price  surface\n",
      "1    Fuenlabrada   89000      NaN\n",
      "3    Fuenlabrada   89000     86.0\n",
      "85      Alcorcón  107000     50.0\n",
      "94       Leganés  320000    120.0\n",
      "109     Alcorcón  425000    142.0\n",
      "161  Fuenlabrada  239500    123.0\n",
      "169       Getafe  290000    195.0\n",
      "189      Leganés   60000     60.0\n",
      "193      Leganés  140000     70.0\n",
      "214  Fuenlabrada  184000    175.0\n"
     ]
    }
   ],
   "source": [
    "import pandas as pd\n",
    "data = pd.read_csv('assets/real_estate.csv', sep=';')\n",
    "\n",
    "fuenla = ['Fuenlabrada']\n",
    "leg = ['Leganés']\n",
    "gtf = ['Getafe']\n",
    "alco = ['Alcorcón']\n",
    "new_data = data[data['level5'].isin(fuenla) + data['level5'].isin(leg) + data['level5'].isin(gtf) + data['level5'].isin(alco)]\n",
    "print(new_data.loc[:, ['level5', 'price', 'surface']].head(10))"
   ]
  },
  {
   "attachments": {},
   "cell_type": "markdown",
   "id": "severe-fisher",
   "metadata": {},
   "source": [
    "#### Exercise 15. Make a bar plot of the median of the prices and explain what you observe (you must use the subset obtained in the question 14) (★★★)\n",
    "\n",
    "Print the bar of the median of the prices and write in the Markdown cell a brief analysis about the plot"
   ]
  },
  {
   "cell_type": "code",
   "execution_count": 41,
   "id": "lyric-bunch",
   "metadata": {},
   "outputs": [
    {
     "data": {
      "image/png": "[encoded data removed]",
      "text/plain": [
       "<Figure size 1000x500 with 1 Axes>"
      ]
     },
     "metadata": {},
     "output_type": "display_data"
    },
    {
     "name": "stdout",
     "output_type": "stream",
     "text": [
      "Getafe es la zona más cara Y Fuenlabrada es la más barata, Alcorcón y Leganés no tienen mucha diferencia entre ellas\n"
     ]
    }
   ],
   "source": [
    "import pandas as pd\n",
    "data = pd.read_csv('assets/real_estate.csv', sep=';')\n",
    "new_data = data[data['level5'].isin(fuenla) + data['level5'].isin(leg) + data['level5'].isin(gtf) + data['level5'].isin(alco)]\n",
    "\n",
    "mediafuenla = new_data[new_data['level5'].isin(fuenla)]\n",
    "f = mediafuenla['price'].mean()\n",
    "\n",
    "medialeg = new_data[new_data['level5'].isin(leg)]\n",
    "l = medialeg['price'].mean()\n",
    "\n",
    "mediagtf = new_data[new_data['level5'].isin(gtf)]\n",
    "g = mediagtf['price'].mean()\n",
    "\n",
    "medialco = new_data[new_data['level5'].isin(alco)]\n",
    "a = medialco['price'].mean()\n",
    "\n",
    "import matplotlib.pyplot as plt\n",
    "labels = ['Fuenlabrada', 'Leganés','Getafe', 'Alcorcón']\n",
    "values = [f, l, g, a]\n",
    "plt.figure(figsize = (10, 5))\n",
    "plt.bar(labels, values)\n",
    "plt.title('Gráficos precios promedio')\n",
    "plt.show()\n",
    "\n",
    "print('Getafe es la zona más cara Y Fuenlabrada es la más barata, Alcorcón y Leganés no tienen mucha diferencia entre ellas')"
   ]
  },
  {
   "attachments": {},
   "cell_type": "markdown",
   "id": "sublime-newspaper",
   "metadata": {},
   "source": [
    "**TODO: Markdown**. To write here, double click to this cell and just remove this content and place the text you want to write. Then, execute the cell."
   ]
  },
  {
   "attachments": {},
   "cell_type": "markdown",
   "id": "speaking-diamond",
   "metadata": {},
   "source": [
    "#### Exercise 16. Calculate the sample mean and variance of the variables: price, rooms, surface area and bathrooms (you must use the subset obtained in the question 14) (★★★)\n",
    "\n",
    "Print both values for each variable"
   ]
  },
  {
   "cell_type": "code",
   "execution_count": 26,
   "id": "random-feeling",
   "metadata": {},
   "outputs": [
    {
     "name": "stdout",
     "output_type": "stream",
     "text": [
      "                Precio  Habitaciones   Superficie     Baños\n",
      "Media     2.230945e+05      3.017738   111.752224  1.633222\n",
      "Varianza  1.492137e+10      0.718886  4263.051760  0.571797\n"
     ]
    }
   ],
   "source": [
    "import pandas as pd\n",
    "data = pd.read_csv('assets/real_estate.csv', sep=';')\n",
    "new_data = data[data['level5'].isin(fuenla) + data['level5'].isin(leg) + data['level5'].isin(gtf) + data['level5'].isin(alco)]\n",
    "\n",
    "k = (new_data.groupby(lambda _: \"\").agg(\n",
    "   Precio = ('price', 'mean'),\n",
    "   Habitaciones = ('rooms', 'mean'),\n",
    "   Superficie = ('surface', 'mean'),\n",
    "   Baños = ('bathrooms', 'mean'))\n",
    ")\n",
    "\n",
    "v = (new_data.groupby(lambda _: \"\").agg(\n",
    "    Precio = ('price', 'var'),\n",
    "    Habitaciones = ('rooms', 'var'),\n",
    "    Superficie = ('surface', 'var'),\n",
    "    Baños = ('bathrooms', 'var')\n",
    "))\n",
    "\n",
    "final = pd.concat([k, v], axis=0)\n",
    "final.index = ['Media', 'Varianza']\n",
    "print(final)"
   ]
  },
  {
   "attachments": {},
   "cell_type": "markdown",
   "id": "revolutionary-matrix",
   "metadata": {},
   "source": [
    "#### Exercise 17. What is the most expensive house of each population? You must use the subset obtained in the question 14 (★★☆)\n",
    "\n",
    "Print both the address and the price of the selected house of each population. You can print a DataFrame or a single line for each population"
   ]
  },
  {
   "cell_type": "code",
   "execution_count": 17,
   "id": "fifteen-browse",
   "metadata": {},
   "outputs": [
    {
     "name": "stdout",
     "output_type": "stream",
     "text": [
      "The house with address Calle de Paulo Freire, 5, Fuenlabrada, is the most expensive and its price is 490000 USD.\n",
      "The house with address Avenida Reina Sofía, Leganés is the most expensive and its price is 650000 USD.\n",
      "The house with address Getafe is the most expensive and its price is 1050000 USD.\n",
      "The house with address Alcorcón is the most expensive and its price is 950000 USD.\n"
     ]
    }
   ],
   "source": [
    "import pandas as pd\n",
    "data = pd.read_csv('assets/real_estate.csv', sep=';')\n",
    "new_data = data[data['level5'].isin(fuenla) + data['level5'].isin(leg) + data['level5'].isin(gtf) + data['level5'].isin(alco)]\n",
    "\n",
    "Fuenlabrada = new_data[new_data['level5'].isin(fuenla)]\n",
    "prixmax= Fuenlabrada['price'].max()\n",
    "d = Fuenlabrada['address'].loc[Fuenlabrada['price'] == prixmax]\n",
    "direcc = data.loc[11561]['address']\n",
    "soluc = \"The house with address \" + direcc + \", is the most expensive and its price is \" + str(prixmax) + \" USD.\"\n",
    "print(soluc)\n",
    "\n",
    "Leganés = new_data[new_data['level5'].isin(leg)]\n",
    "prmax= Leganés['price'].max()\n",
    "di = Leganés['address'].loc[Leganés['price'] == prmax]\n",
    "direc = data.loc[10412]['address']\n",
    "solu = \"The house with address \" + direc + \" is the most expensive and its price is \" + str(prmax) + \" USD.\"\n",
    "print(solu)\n",
    "\n",
    "Getafe = new_data[new_data['level5'].isin(gtf)]\n",
    "pmax= Getafe['price'].max()\n",
    "dx = Getafe['address'].loc[Getafe['price'] == pmax]\n",
    "dir = data.loc[2881]['address']\n",
    "sol = \"The house with address \" + dir + \" is the most expensive and its price is \" + str(pmax) + \" USD.\"\n",
    "print(sol)\n",
    "\n",
    "Alcorcón = new_data[new_data['level5'].isin(alco)]\n",
    "pm= Alcorcón['price'].max()\n",
    "dire = Alcorcón['address'].loc[Alcorcón['price'] == pm]\n",
    "dmax = data.loc[5585]['address']\n",
    "solc = \"The house with address \" + dmax + \" is the most expensive and its price is \" + str(pm) + \" USD.\"\n",
    "print(solc)\n",
    "\n",
    "\n"
   ]
  },
  {
   "attachments": {},
   "cell_type": "markdown",
   "id": "activated-knight",
   "metadata": {},
   "source": [
    "#### Exercise 18. Normalize the variable of prices for each population and plot the 4 histograms in the same plot (you must use the subset obtained in the question 14) (★★★)\n",
    "\n",
    "For the normalization method you can use the one you consider to, there is not a single correct answer to this question. Print the plot and write in the Markdown cell a brief analysis about the plot\n",
    "\n",
    "Hint: You can help yourself reviewing the multihist demo of Matplotlib"
   ]
  },
  {
   "cell_type": "code",
   "execution_count": 49,
   "id": "civic-meditation",
   "metadata": {},
   "outputs": [
    {
     "name": "stdout",
     "output_type": "stream",
     "text": [
      "       Fuenlabrada  Leganés  Getafe  Alcorcón\n",
      "1        -1.286361      NaN     NaN       NaN\n",
      "3        -1.286361      NaN     NaN       NaN\n",
      "161       0.908669      NaN     NaN       NaN\n",
      "214       0.099206      NaN     NaN       NaN\n",
      "219      -0.197305      NaN     NaN       NaN\n",
      "...            ...      ...     ...       ...\n",
      "14896          NaN      NaN     NaN -0.752831\n",
      "15144          NaN      NaN     NaN  0.791299\n",
      "15166          NaN      NaN     NaN -0.436086\n",
      "15191          NaN      NaN     NaN  0.696276\n",
      "15223          NaN      NaN     NaN  0.213240\n",
      "\n",
      "[907 rows x 4 columns]\n"
     ]
    },
    {
     "data": {
      "image/png": "[encoded data removed]",
      "text/plain": [
       "<Figure size 1000x500 with 1 Axes>"
      ]
     },
     "metadata": {},
     "output_type": "display_data"
    },
    {
     "name": "stdout",
     "output_type": "stream",
     "text": [
      "Los valores de cada columna ahora están normalizados de modo que la media de los valores de cada columna sea 0 y la desviación estándar de los valores de cada columna sea 1\n",
      "La gráfica muestra que Getafe es la más cara y con mayor dispersiñon de precios, al punto que modifica la media, ya que las otras tres zonas restantes acumulan mñas por debajo de la media.\n"
     ]
    }
   ],
   "source": [
    "import pandas as pd\n",
    "data = pd.read_csv('assets/real_estate.csv', sep=';')\n",
    "new_data = data[data['level5'].isin(fuenla) + data['level5'].isin(leg) + data['level5'].isin(gtf) + data['level5'].isin(alco)]\n",
    "\n",
    "#Normalización media\n",
    "Fuenlabrada = new_data[new_data['level5'].isin(fuenla)]\n",
    "df = Fuenlabrada['price']\n",
    "w = (df-df.mean())/df.std()\n",
    "\n",
    "Leganés = new_data[new_data['level5'].isin(leg)]\n",
    "dl = Leganés['price']\n",
    "q = (dl-dl.mean())/dl.std()\n",
    "\n",
    "Getafe = new_data[new_data['level5'].isin(gtf)]\n",
    "dg= Getafe['price']\n",
    "t = (dg-dg.mean())/dg.std()\n",
    "\n",
    "Alcorcón = new_data[new_data['level5'].isin(alco)]\n",
    "da = Alcorcón['price']\n",
    "j = (da-da.mean())/da.std()\n",
    "\n",
    "dathist = pd.concat([w, q, t, j], axis=1)\n",
    "dathist.columns = ['Fuenlabrada', 'Leganés', 'Getafe', 'Alcorcón']\n",
    "print(dathist)\n",
    "\n",
    "plt.figure(figsize = (10, 5))\n",
    "plt.hist(dathist, bins=30, alpha=0.7,label =['Fuenlabrada', 'Leganés', 'Getafe', 'Alcorcón'])\n",
    "plt.title(\"Histograma normalización de precios\")\n",
    "plt.legend(loc=\"upper right\")\n",
    "plt.show()\n",
    "\n",
    "print(\"Los valores de cada columna ahora están normalizados de modo que la media de los valores de cada columna sea 0 y la desviación estándar de los valores de cada columna sea 1\")\n",
    "print(\"La gráfica muestra que Getafe es la más cara y con mayor dispersiñon de precios, al punto que modifica la media, ya que las otras tres zonas restantes acumulan mñas por debajo de la media.\")\n"
   ]
  },
  {
   "attachments": {},
   "cell_type": "markdown",
   "id": "precise-heavy",
   "metadata": {},
   "source": [
    "**TODO: Markdown**. To write here, double click to this cell and just remove this content and place the text you want to write. Then, execute the cell."
   ]
  },
  {
   "attachments": {},
   "cell_type": "markdown",
   "id": "patent-jonathan",
   "metadata": {},
   "source": [
    "#### Exercise 19. What can you say about the price per square meter (price/m2) between the towns of \"Getafe\" and \"Alcorcón\"? You must use the subset obtained in the question 14 (★★☆)\n",
    "\n",
    "Hint: Create a new column called `pps` (price per square) and then analyse the values"
   ]
  },
  {
   "cell_type": "code",
   "execution_count": 50,
   "id": "initial-liverpool",
   "metadata": {},
   "outputs": [
    {
     "name": "stdout",
     "output_type": "stream",
     "text": [
      "El precio medio por metro cuadrado es de 2066.314949251463 en Getafe, y de 2239.302480199618 en Alcorcón\n",
      "En promedio, Getafe es una zona más económica que Alcorcón\n",
      "Los precios por m2 entre inmuebles son más dispares en Getafe\n"
     ]
    }
   ],
   "source": [
    "import pandas as pd\n",
    "data = pd.read_csv('assets/real_estate.csv', sep=';')\n",
    "new_data = data[data['level5'].isin(fuenla) + data['level5'].isin(leg) + data['level5'].isin(gtf) + data['level5'].isin(alco)]\n",
    "\n",
    "gf = new_data[new_data['level5'].isin(gtf)]\n",
    "ac = new_data[new_data['level5'].isin(alco)]\n",
    "gf_2 = gf.loc[:, ['surface', 'price']]\n",
    "gf_2['pps'] = gf_2['price'] / gf_2['surface']\n",
    "ac_2 = ac.loc[:, ['surface', 'price']]\n",
    "ac_2['pps'] = ac_2['price'] / ac_2['surface']\n",
    "media_gf = gf_2['pps'].mean()\n",
    "var_gf = gf_2['pps'].var(ddof=0)\n",
    "media_ac = ac_2['pps'].mean()\n",
    "var_ac = ac_2['pps'].var(ddof=0)\n",
    "print('El precio medio por metro cuadrado es de ' + str(media_gf) + ' en Getafe, y de ' + str(media_ac) + ' en Alcorcón')\n",
    "if media_gf < media_ac:\n",
    "    print('En promedio, Getafe es una zona más económica que Alcorcón')\n",
    "elif media_gf > media_ac:\n",
    "    print('Getafe es más cara que Alcorcón')\n",
    "else:\n",
    "    print('Getafe y Alcorcón tienen el mismo precio por m2')\n",
    "\n",
    "if var_ac < var_gf:\n",
    "    print('Los precios por m2 entre inmuebles son más dispares en Getafe')\n",
    "elif var_ac > var_gf:\n",
    "    print('Los precios por m2 entre inmuebles son más dispares en Alcorcón')\n",
    "else:\n",
    "    print('Hay la misma disparidad de precios entre inmuebles en ambas zonas')"
   ]
  },
  {
   "attachments": {},
   "cell_type": "markdown",
   "id": "enhanced-moscow",
   "metadata": {},
   "source": [
    "#### Exercise 20. Make the same plot for 4 different populations (level5 column) and rearrange them on the same graph? You must use the subset obtained in the question 14 (★★☆) \n",
    "Hint: make a scatter plot of each population using subplots."
   ]
  },
  {
   "cell_type": "code",
   "execution_count": 32,
   "id": "accepting-airfare",
   "metadata": {},
   "outputs": [
    {
     "data": {
      "image/png": "[encoded data removed]",
      "text/plain": [
       "<Figure size 2000x1000 with 4 Axes>"
      ]
     },
     "metadata": {},
     "output_type": "display_data"
    },
    {
     "data": {
      "image/png": "[encoded data removed]",
      "text/plain": [
       "<Figure size 1000x500 with 1 Axes>"
      ]
     },
     "metadata": {},
     "output_type": "display_data"
    }
   ],
   "source": [
    "import pandas as pd\n",
    "data = pd.read_csv('assets/real_estate.csv', sep=';')\n",
    "new_data = data[data['level5'].isin(fuenla) + data['level5'].isin(leg) + data['level5'].isin(gtf) + data['level5'].isin(alco)]\n",
    "\n",
    "import matplotlib.pyplot as plt\n",
    "Fuenlabrada = new_data[new_data['level5'].isin(fuenla)]\n",
    "xf = Fuenlabrada['price']\n",
    "yf = Fuenlabrada['surface']\n",
    "\n",
    "Leganés = new_data[new_data['level5'].isin(leg)]\n",
    "xl = Leganés['price']\n",
    "yl = Leganés['surface']\n",
    "\n",
    "Getafe = new_data[new_data['level5'].isin(gtf)]\n",
    "xg = Getafe['price']\n",
    "yg = Getafe['surface']\n",
    "\n",
    "Alcorcón = new_data[new_data['level5'].isin(alco)]\n",
    "xa = Alcorcón['price']\n",
    "ya = Alcorcón['surface']\n",
    "\n",
    "fig, (ax1, ax2, ax3, ax4) = plt.subplots(1, 4, figsize=(20, 10))\n",
    "\n",
    "ax1.scatter(xf, yf)\n",
    "ax1.set_xlabel('precio')\n",
    "ax1.set_ylabel('superficie')\n",
    "\n",
    "\n",
    "ax2.scatter(xl, yl)\n",
    "ax2.set_xlabel('precio')\n",
    "ax2.set_ylabel('superficie')\n",
    "\n",
    "\n",
    "ax3.scatter(xg, yg)\n",
    "ax3.set_xlabel('precio')\n",
    "ax3.set_ylabel('superficie')\n",
    "\n",
    "\n",
    "ax4.scatter(xa, ya)\n",
    "ax4.set_xlabel('precio')\n",
    "ax4.set_ylabel('superficie')\n",
    "\n",
    "plt.show()\n",
    "\n",
    "\n",
    "plt.figure(figsize = (10, 5))\n",
    "\n",
    "plt.scatter(xf, yf, color='red', label = 'Fuenlabrada')\n",
    "plt.scatter(xl, yl, color='blue', label = 'Leganés')\n",
    "plt.scatter(xg, yg, color='yellow', label = 'Getafe')\n",
    "plt.scatter(xa, ya, color='orange', label = 'Alcorcón')\n",
    "\n",
    "plt.title('Gráfico')\n",
    "plt.legend(loc=\"lower right\")\n",
    "plt.show()"
   ]
  },
  {
   "attachments": {},
   "cell_type": "markdown",
   "id": "blocked-effects",
   "metadata": {},
   "source": [
    "#### Exercise 21. Make a plot of the coordinates (latitude and longitude columns) of the south belt of Madrid by color of each population (you must use the subset obtained in the question 14) (★★★★)\n",
    "\n",
    "Execute the following cell and then start coding in the next one. You must implement a simple code that transform the coordinates columns in a Python dictionary (add more information if needed) and then add it to the map"
   ]
  },
  {
   "cell_type": "code",
   "execution_count": 2,
   "id": "headed-privacy",
   "metadata": {},
   "outputs": [
    {
     "data": {
      "application/vnd.jupyter.widget-view+json": {
       "model_id": "9ecd7b8dcf2f417fbe3a60fe35ad9be7",
       "version_major": 2,
       "version_minor": 0
      },
      "text/plain": [
       "Map(center=[60, -2.2], controls=(ZoomControl(options=['position', 'zoom_in_text', 'zoom_in_title', 'zoom_out_t…"
      ]
     },
     "execution_count": 2,
     "metadata": {},
     "output_type": "execute_result"
    }
   ],
   "source": [
    "from ipyleaflet import Map, basemaps\n",
    "\n",
    "# Map centred on (60 degrees latitude et -2.2 degrees longitude)\n",
    "# Latitude, longitude\n",
    "map = Map(center = (60, -2.2), zoom = 2, min_zoom = 1, max_zoom = 20, basemap=basemaps.Esri.DeLorme)\n",
    "map"
   ]
  },
  {
   "cell_type": "code",
   "execution_count": 5,
   "id": "present-mistress",
   "metadata": {},
   "outputs": [
    {
     "data": {
      "application/vnd.jupyter.widget-view+json": {
       "model_id": "437255f3cfda4a469b73783158872d2b",
       "version_major": 2,
       "version_minor": 0
      },
      "text/plain": [
       "Map(center=[60, -2.2], controls=(ZoomControl(options=['position', 'zoom_in_text', 'zoom_in_title', 'zoom_out_t…"
      ]
     },
     "execution_count": 5,
     "metadata": {},
     "output_type": "execute_result"
    }
   ],
   "source": [
    "## HERE: plot the coordinates of the estates\n",
    "\n",
    "from ipyleaflet import Map, basemaps\n",
    "\n",
    "# Map centred on (60 degrees latitude et -2.2 degrees longitude)\n",
    "# Latitude, longitude\n",
    "map = Map(center = (60, -2.2), zoom = 2, min_zoom = 1, max_zoom = 20, basemap=basemaps.Esri.DeLorme)\n",
    "map\n",
    "\n",
    "\n",
    "## PUT HERE YOUR CODE:\n",
    "\n",
    "import pandas as pd\n",
    "data = pd.read_csv('assets/real_estate.csv', sep=';')\n",
    "fuenla = ['Fuenlabrada']\n",
    "leg = ['Leganés']\n",
    "gtf = ['Getafe']\n",
    "alco = ['Alcorcón']\n",
    "new_data = data[data['level5'].isin(fuenla) + data['level5'].isin(leg) + data['level5'].isin(gtf) + data['level5'].isin(alco)]\n",
    "\n",
    "import matplotlib.pyplot as plt\n",
    "\n",
    "#coordenadas = new_data.loc[:, ['latitude', 'longitude']]\n",
    "#latitud = coordenadas['latitude'].to_numpy().transpose().tolist()\n",
    "#longitud = coordenadas['longitude'].to_numpy().transpose().tolist()\n",
    "#diccionario = dict(zip(latitud, longitud))\n",
    "\n",
    "\n",
    "\n",
    "coord_f = new_data[new_data['level5'].isin(fuenla)]\n",
    "coordenadasF = coord_f.loc[:, ['latitude', 'longitude']]\n",
    "latitudF = coordenadasF['latitude'].to_numpy().transpose().tolist()\n",
    "longitudF = coordenadasF['longitude'].to_numpy().transpose().tolist()\n",
    "diccionarioF = dict(zip(latitudF, longitudF))\n",
    "\n",
    "#for clave, valor in diccionarioF.items():\n",
    "    #plt.scatter(clave, valor, c='red')\n",
    "\n",
    "coord_f = new_data[new_data['level5'].isin(fuenla)]\n",
    "coordenadasF = coord_f.loc[:, ['latitude', 'longitude']]\n",
    "latitudF = coordenadasF['latitude'].to_numpy().transpose().tolist()\n",
    "longitudF = coordenadasF['longitude'].to_numpy().transpose().tolist()\n",
    "diccionarioF = dict(zip(latitudF, longitudF))\n",
    "\n",
    "coord_l = new_data[new_data['level5'].isin(leg)]\n",
    "coordenadasL = coord_l.loc[:, ['latitude', 'longitude']]\n",
    "latitudL = coordenadasL['latitude'].to_numpy().transpose().tolist()\n",
    "longitudL = coordenadasL['longitude'].to_numpy().transpose().tolist()\n",
    "diccionarioL = dict(zip(latitudL, longitudL))\n",
    "\n",
    "coord_g = new_data[new_data['level5'].isin(gtf)]\n",
    "coordenadasG = coord_g.loc[:, ['latitude', 'longitude']]\n",
    "latitudG = coordenadasG['latitude'].to_numpy().transpose().tolist()\n",
    "longitudG = coordenadasG['longitude'].to_numpy().transpose().tolist()\n",
    "diccionarioG = dict(zip(latitudG, longitudG))\n",
    "\n",
    "coord_a = new_data[new_data['level5'].isin(alco)]\n",
    "coordenadasA = coord_a.loc[:, ['latitude', 'longitude']]\n",
    "latitudA = coordenadasA['latitude'].to_numpy().transpose().tolist()\n",
    "longitudA = coordenadasA['longitude'].to_numpy().transpose().tolist()\n",
    "diccionarioA = dict(zip(latitudA, longitudA))\n",
    "\n",
    "my_diccionario = {'Fuenlabrada' : diccionarioF, 'Leganés' : diccionarioG, 'Getafe' : diccionarioG, 'Alcorcón' : diccionarioA}\n",
    "#print(my_diccionario)\n",
    "\n",
    "\n",
    "#colors = list(\"rgbcmyk\")\n",
    "\n",
    "#for coor in my_diccionario.values():\n",
    "    #x = coor.keys()\n",
    "    #y = coor.values()\n",
    "    #plt.scatter(x, y, color=colors.pop())\n",
    "\n",
    "#plt.legend(my_diccionario.keys())      \n",
    "#plt.show(mapping(map))\n",
    "\n",
    "from ipyleaflet import Map, Marker\n",
    "\n",
    "for coor in my_diccionario.values():\n",
    "    x = coor.keys()\n",
    "    y = coor.values()\n",
    "    center = (x, y)\n",
    "\n",
    "marker = Marker(location=center, draggable=False)\n",
    "map.add(marker);\n",
    "\n",
    "map\n"
   ]
  }
 ],
 "metadata": {
  "kernelspec": {
   "display_name": "Python 3",
   "language": "python",
   "name": "python3"
  },
  "language_info": {
   "codemirror_mode": {
    "name": "ipython",
    "version": 3
   },
   "file_extension": ".py",
   "mimetype": "text/x-python",
   "name": "python",
   "nbconvert_exporter": "python",
   "pygments_lexer": "ipython3",
   "version": "3.11.4"
  }
 },
 "nbformat": 4,
 "nbformat_minor": 5
}
